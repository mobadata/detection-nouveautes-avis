{
  "nbformat": 4,
  "nbformat_minor": 0,
  "metadata": {
    "colab": {
      "provenance": [],
      "authorship_tag": "ABX9TyO1w2HL7ljgYntWV9y0eCAJ",
      "include_colab_link": true
    },
    "kernelspec": {
      "name": "python3",
      "display_name": "Python 3"
    },
    "language_info": {
      "name": "python"
    }
  },
  "cells": [
    {
      "cell_type": "markdown",
      "metadata": {
        "id": "view-in-github",
        "colab_type": "text"
      },
      "source": [
        "<a href=\"https://colab.research.google.com/github/mobadata/detection-nouveautes-avis/blob/main/lda_detection_nouveautes.ipynb\" target=\"_parent\"><img src=\"https://colab.research.google.com/assets/colab-badge.svg\" alt=\"Open In Colab\"/></a>"
      ]
    },
    {
      "cell_type": "code",
      "source": [
        "from google.colab import drive\n",
        "drive.mount('/content/drive')"
      ],
      "metadata": {
        "colab": {
          "base_uri": "https://localhost:8080/"
        },
        "id": "3P_XwvStVVPR",
        "outputId": "b011c659-61ac-4f82-c596-b7e038739293"
      },
      "execution_count": null,
      "outputs": [
        {
          "output_type": "stream",
          "name": "stdout",
          "text": [
            "Mounted at /content/drive\n"
          ]
        }
      ]
    },
    {
      "cell_type": "code",
      "source": [
        "import nltk\n",
        "nltk.download(\"punkt_tab\")\n",
        "nltk.download(\"stopwords\")\n",
        "nltk.download(\"wordnet\")\n",
        "nltk.download(\"punkt\")"
      ],
      "metadata": {
        "colab": {
          "base_uri": "https://localhost:8080/"
        },
        "collapsed": true,
        "id": "M01sebYoUY9g",
        "outputId": "d967d4a9-e099-4007-90c2-2c05d7307c07"
      },
      "execution_count": null,
      "outputs": [
        {
          "output_type": "stream",
          "name": "stderr",
          "text": [
            "[nltk_data] Downloading package punkt_tab to /root/nltk_data...\n",
            "[nltk_data]   Package punkt_tab is already up-to-date!\n",
            "[nltk_data] Downloading package stopwords to /root/nltk_data...\n",
            "[nltk_data]   Package stopwords is already up-to-date!\n",
            "[nltk_data] Downloading package wordnet to /root/nltk_data...\n",
            "[nltk_data] Downloading package punkt to /root/nltk_data...\n",
            "[nltk_data]   Package punkt is already up-to-date!\n"
          ]
        },
        {
          "output_type": "execute_result",
          "data": {
            "text/plain": [
              "True"
            ]
          },
          "metadata": {},
          "execution_count": 25
        }
      ]
    },
    {
      "cell_type": "code",
      "execution_count": null,
      "metadata": {
        "id": "bXlPYdEsTT1p"
      },
      "outputs": [],
      "source": [
        "import re\n",
        "from collections import Counter\n",
        "from types import SimpleNamespace\n",
        "\n",
        "import numpy as np\n",
        "import pandas as pd\n",
        "import matplotlib.pyplot as plt\n",
        "import seaborn as sns\n",
        "from sklearn.decomposition import LatentDirichletAllocation\n",
        "from sklearn.feature_extraction.text import CountVectorizer\n",
        "from sklearn.model_selection import GridSearchCV\n",
        "\n",
        "from nltk.corpus import stopwords\n",
        "from nltk.stem import WordNetLemmatizer as wnl\n",
        "from nltk.tokenize import word_tokenize"
      ]
    },
    {
      "cell_type": "markdown",
      "source": [
        "## Configs"
      ],
      "metadata": {
        "id": "0vIHu0ArcsIo"
      }
    },
    {
      "cell_type": "code",
      "source": [
        "cfg = SimpleNamespace(**{})"
      ],
      "metadata": {
        "id": "ooup0WASWgVX"
      },
      "execution_count": null,
      "outputs": []
    },
    {
      "cell_type": "code",
      "source": [
        "cfg.data_path = \"/content/drive/MyDrive/customers_feedbacks_trends/data/inputs/Electronics_5.json\"\n",
        "cfg.stop_words = set(stopwords.words('english'))\n",
        "cfg.vect_params = {\"ngram_range\": (1, 2), \"min_df\": 10, \"max_df\": 0.9}\n",
        "cfg.lda_grid_params = {'n_components': [10, 15, 20, 25, 30], 'learning_decay': [.5, .7, .9]}"
      ],
      "metadata": {
        "id": "ZZ9VZ_ojViT5"
      },
      "execution_count": null,
      "outputs": []
    },
    {
      "cell_type": "markdown",
      "source": [
        "## Import data"
      ],
      "metadata": {
        "id": "EkrOpVAicyx6"
      }
    },
    {
      "cell_type": "code",
      "source": [
        "reviews_df = pd.read_json(cfg.data_path, lines=True)"
      ],
      "metadata": {
        "id": "APu87gLIWvAj"
      },
      "execution_count": null,
      "outputs": []
    },
    {
      "cell_type": "markdown",
      "source": [
        "## preprocessing"
      ],
      "metadata": {
        "id": "MeQ1_HXNc64J"
      }
    },
    {
      "cell_type": "code",
      "source": [
        "def nettoyer_texte(texte, stop_words):\n",
        "  \"\"\"low all documents, remove special chars, tokenize and lemmatize them then remove stopwords \"\"\"\n",
        "  lemmatizer = wnl()\n",
        "  if isinstance(texte, str):\n",
        "    texte = texte.lower()\n",
        "    texte = re.sub(r\"[^a-z\\s]\", \"\", texte)\n",
        "    tokens = word_tokenize(texte)\n",
        "    lemma = [lemmatizer.lemmatize(word=token) for token in tokens]\n",
        "    mots_utiles = [mot for mot in lemma if mot not in stop_words]\n",
        "    return \" \".join(mots_utiles)\n",
        "  else:\n",
        "        return \"\""
      ],
      "metadata": {
        "id": "7t4CsDpWWz0U"
      },
      "execution_count": null,
      "outputs": []
    },
    {
      "cell_type": "code",
      "source": [
        "reviews_df[\"review_clean\"] = reviews_df[\"reviewText\"].apply(lambda review: nettoyer_texte(review, cfg.stop_words))"
      ],
      "metadata": {
        "id": "mTNcPolgYaeS"
      },
      "execution_count": null,
      "outputs": []
    },
    {
      "cell_type": "code",
      "source": [
        "reviews_df[\"review_clean\"]"
      ],
      "metadata": {
        "colab": {
          "base_uri": "https://localhost:8080/",
          "height": 453
        },
        "id": "1E9YXIok3MHz",
        "outputId": "5abee549-2e59-4814-bcf8-e945928d1e33"
      },
      "execution_count": 29,
      "outputs": [
        {
          "output_type": "execute_result",
          "data": {
            "text/plain": [
              "0          got gps husband otr road trucker impressed shi...\n",
              "1          im professional otr truck driver bought tnd tr...\n",
              "2          well say ive unit truck four day prior garmin ...\n",
              "3          going write long review even thought unit dese...\n",
              "4          ive mine year got try route non truck route te...\n",
              "                                 ...                        \n",
              "1689183    burned listening hour sine wave app ive learne...\n",
              "1689184    people like dj style headphone earbud style he...\n",
              "1689185    im big fan brainwavz actually headphone yet di...\n",
              "1689186    ive used thebrainwavz ear headphone outstandin...\n",
              "1689187    normally receive review sample thorough evalua...\n",
              "Name: review_clean, Length: 1689188, dtype: object"
            ],
            "text/html": [
              "<div>\n",
              "<style scoped>\n",
              "    .dataframe tbody tr th:only-of-type {\n",
              "        vertical-align: middle;\n",
              "    }\n",
              "\n",
              "    .dataframe tbody tr th {\n",
              "        vertical-align: top;\n",
              "    }\n",
              "\n",
              "    .dataframe thead th {\n",
              "        text-align: right;\n",
              "    }\n",
              "</style>\n",
              "<table border=\"1\" class=\"dataframe\">\n",
              "  <thead>\n",
              "    <tr style=\"text-align: right;\">\n",
              "      <th></th>\n",
              "      <th>review_clean</th>\n",
              "    </tr>\n",
              "  </thead>\n",
              "  <tbody>\n",
              "    <tr>\n",
              "      <th>0</th>\n",
              "      <td>got gps husband otr road trucker impressed shi...</td>\n",
              "    </tr>\n",
              "    <tr>\n",
              "      <th>1</th>\n",
              "      <td>im professional otr truck driver bought tnd tr...</td>\n",
              "    </tr>\n",
              "    <tr>\n",
              "      <th>2</th>\n",
              "      <td>well say ive unit truck four day prior garmin ...</td>\n",
              "    </tr>\n",
              "    <tr>\n",
              "      <th>3</th>\n",
              "      <td>going write long review even thought unit dese...</td>\n",
              "    </tr>\n",
              "    <tr>\n",
              "      <th>4</th>\n",
              "      <td>ive mine year got try route non truck route te...</td>\n",
              "    </tr>\n",
              "    <tr>\n",
              "      <th>...</th>\n",
              "      <td>...</td>\n",
              "    </tr>\n",
              "    <tr>\n",
              "      <th>1689183</th>\n",
              "      <td>burned listening hour sine wave app ive learne...</td>\n",
              "    </tr>\n",
              "    <tr>\n",
              "      <th>1689184</th>\n",
              "      <td>people like dj style headphone earbud style he...</td>\n",
              "    </tr>\n",
              "    <tr>\n",
              "      <th>1689185</th>\n",
              "      <td>im big fan brainwavz actually headphone yet di...</td>\n",
              "    </tr>\n",
              "    <tr>\n",
              "      <th>1689186</th>\n",
              "      <td>ive used thebrainwavz ear headphone outstandin...</td>\n",
              "    </tr>\n",
              "    <tr>\n",
              "      <th>1689187</th>\n",
              "      <td>normally receive review sample thorough evalua...</td>\n",
              "    </tr>\n",
              "  </tbody>\n",
              "</table>\n",
              "<p>1689188 rows × 1 columns</p>\n",
              "</div><br><label><b>dtype:</b> object</label>"
            ]
          },
          "metadata": {},
          "execution_count": 29
        }
      ]
    },
    {
      "cell_type": "code",
      "source": [
        "count_vectorizer = CountVectorizer(**cfg.vect_params)\n",
        "text_counts = count_vectorizer.fit_transform(reviews_df[\"review_clean\"])\n",
        "count_df = pd.DataFrame(text_counts.toarray(), columns = count_vectorizer.get_feature_names())"
      ],
      "metadata": {
        "id": "x3266BP_sZtG"
      },
      "execution_count": null,
      "outputs": []
    },
    {
      "cell_type": "code",
      "source": [
        "lda = LatentDirichletAllocation()"
      ],
      "metadata": {
        "id": "T0gvMj__uVuX"
      },
      "execution_count": null,
      "outputs": []
    }
  ]
}