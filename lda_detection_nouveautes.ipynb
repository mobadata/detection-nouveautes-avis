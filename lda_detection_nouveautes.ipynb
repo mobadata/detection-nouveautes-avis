{
  "cells": [
    {
      "cell_type": "markdown",
      "metadata": {
        "id": "view-in-github",
        "colab_type": "text"
      },
      "source": [
        "<a href=\"https://colab.research.google.com/github/mobadata/detection-nouveautes-avis/blob/main/lda_detection_nouveautes.ipynb\" target=\"_parent\"><img src=\"https://colab.research.google.com/assets/colab-badge.svg\" alt=\"Open In Colab\"/></a>"
      ]
    },
    {
      "cell_type": "code",
      "execution_count": 4,
      "metadata": {
        "colab": {
          "base_uri": "https://localhost:8080/"
        },
        "id": "3P_XwvStVVPR",
        "outputId": "6afd9d5b-b3b8-48e8-8fa6-37f24b5ee46a"
      },
      "outputs": [
        {
          "output_type": "stream",
          "name": "stdout",
          "text": [
            "Drive already mounted at /content/drive; to attempt to forcibly remount, call drive.mount(\"/content/drive\", force_remount=True).\n"
          ]
        }
      ],
      "source": [
        "from google.colab import drive\n",
        "drive.mount('/content/drive')"
      ]
    },
    {
      "cell_type": "code",
      "execution_count": 5,
      "metadata": {
        "colab": {
          "base_uri": "https://localhost:8080/"
        },
        "collapsed": true,
        "id": "M01sebYoUY9g",
        "outputId": "77f5db20-9f30-4bc6-af55-bac8693cf408"
      },
      "outputs": [
        {
          "output_type": "stream",
          "name": "stderr",
          "text": [
            "[nltk_data] Downloading package punkt_tab to /root/nltk_data...\n",
            "[nltk_data]   Package punkt_tab is already up-to-date!\n",
            "[nltk_data] Downloading package stopwords to /root/nltk_data...\n",
            "[nltk_data]   Package stopwords is already up-to-date!\n",
            "[nltk_data] Downloading package wordnet to /root/nltk_data...\n",
            "[nltk_data]   Package wordnet is already up-to-date!\n",
            "[nltk_data] Downloading package punkt to /root/nltk_data...\n",
            "[nltk_data]   Package punkt is already up-to-date!\n"
          ]
        },
        {
          "output_type": "execute_result",
          "data": {
            "text/plain": [
              "True"
            ]
          },
          "metadata": {},
          "execution_count": 5
        }
      ],
      "source": [
        "import nltk\n",
        "nltk.download(\"punkt_tab\")\n",
        "nltk.download(\"stopwords\")\n",
        "nltk.download(\"wordnet\")\n",
        "nltk.download(\"punkt\")"
      ]
    },
    {
      "cell_type": "code",
      "execution_count": 6,
      "metadata": {
        "id": "bXlPYdEsTT1p"
      },
      "outputs": [],
      "source": [
        "import re\n",
        "import gc\n",
        "from collections import Counter\n",
        "from types import SimpleNamespace\n",
        "\n",
        "import numpy as np\n",
        "import pandas as pd\n",
        "import matplotlib.pyplot as plt\n",
        "import seaborn as sns\n",
        "from sklearn.decomposition import LatentDirichletAllocation\n",
        "from sklearn.feature_extraction.text import CountVectorizer\n",
        "from sklearn.model_selection import GridSearchCV\n",
        "\n",
        "from nltk.corpus import stopwords\n",
        "from nltk.stem import WordNetLemmatizer as wnl\n",
        "from nltk.tokenize import word_tokenize"
      ]
    },
    {
      "cell_type": "markdown",
      "metadata": {
        "id": "0vIHu0ArcsIo"
      },
      "source": [
        "## Configs"
      ]
    },
    {
      "cell_type": "code",
      "execution_count": 7,
      "metadata": {
        "id": "ooup0WASWgVX"
      },
      "outputs": [],
      "source": [
        "cfg = SimpleNamespace(**{})"
      ]
    },
    {
      "cell_type": "code",
      "execution_count": 8,
      "metadata": {
        "id": "ZZ9VZ_ojViT5"
      },
      "outputs": [],
      "source": [
        "cfg.data_path = \"/content/drive/MyDrive/customers_feedbacks_trends/data/inputs/train_reviews.parquet\"\n",
        "cfg.lda_grid_params = {'n_components': [5, 10, 15, 20], 'learning_decay': [.1, .3, .5, .7]}\n",
        "cfg.seed = 57\n",
        "cfg.stop_words = set(stopwords.words('english'))\n",
        "cfg.vect_params = {\"ngram_range\": (1, 3), \"min_df\": 0., \"max_df\": 0.9}"
      ]
    },
    {
      "cell_type": "markdown",
      "metadata": {
        "id": "EkrOpVAicyx6"
      },
      "source": [
        "## Import data"
      ]
    },
    {
      "cell_type": "code",
      "execution_count": 9,
      "metadata": {
        "id": "APu87gLIWvAj"
      },
      "outputs": [],
      "source": [
        "reviews_df = pd.read_parquet(cfg.data_path)"
      ]
    },
    {
      "cell_type": "code",
      "execution_count": 10,
      "metadata": {
        "colab": {
          "base_uri": "https://localhost:8080/",
          "height": 374
        },
        "id": "ogpDkbVNcfIn",
        "outputId": "72642de1-90af-44e8-dd0a-2ffc7a33b389"
      },
      "outputs": [
        {
          "output_type": "execute_result",
          "data": {
            "text/plain": [
              "        reviewerID        asin              reviewerName   helpful  \\\n",
              "1    AMO214LNFCEI4  0528881469           Amazon Customer  [12, 15]   \n",
              "2   A3N7T0DY83Y4IG  0528881469             C. A. Freeman  [43, 45]   \n",
              "3   A1H8PY3QHMQQA0  0528881469  Dave M. Shaw \"mack dave\"   [9, 10]   \n",
              "4   A24EV6RXELQZ63  0528881469               Wayne Smith    [0, 0]   \n",
              "20  A1EDI0X3GI1SK7  0972683275                       AGW    [0, 1]   \n",
              "\n",
              "                                           reviewText  overall  \\\n",
              "1   I'm a professional OTR truck driver, and I bou...        1   \n",
              "2   Well, what can I say.  I've had this unit in m...        3   \n",
              "3   Not going to write a long review, even thought...        2   \n",
              "4   I've had mine for a year and here's what we go...        1   \n",
              "20  Great deal, easy to mount and it appears to be...        5   \n",
              "\n",
              "                                   summary  unixReviewTime reviewTime  year  \n",
              "1                        Very Disappointed      1290643200 2010-11-25  2010  \n",
              "2                           1st impression      1283990400 2010-09-09  2010  \n",
              "3                  Great grafics, POOR GPS      1290556800 2010-11-24  2010  \n",
              "4   Major issues, only excuses for support      1317254400 2011-09-29  2011  \n",
              "20                          32 In TV Mount      1323993600 2011-12-16  2011  "
            ],
            "text/html": [
              "\n",
              "  <div id=\"df-badb2924-19cf-499c-a2cd-0a54a6033e37\" class=\"colab-df-container\">\n",
              "    <div>\n",
              "<style scoped>\n",
              "    .dataframe tbody tr th:only-of-type {\n",
              "        vertical-align: middle;\n",
              "    }\n",
              "\n",
              "    .dataframe tbody tr th {\n",
              "        vertical-align: top;\n",
              "    }\n",
              "\n",
              "    .dataframe thead th {\n",
              "        text-align: right;\n",
              "    }\n",
              "</style>\n",
              "<table border=\"1\" class=\"dataframe\">\n",
              "  <thead>\n",
              "    <tr style=\"text-align: right;\">\n",
              "      <th></th>\n",
              "      <th>reviewerID</th>\n",
              "      <th>asin</th>\n",
              "      <th>reviewerName</th>\n",
              "      <th>helpful</th>\n",
              "      <th>reviewText</th>\n",
              "      <th>overall</th>\n",
              "      <th>summary</th>\n",
              "      <th>unixReviewTime</th>\n",
              "      <th>reviewTime</th>\n",
              "      <th>year</th>\n",
              "    </tr>\n",
              "  </thead>\n",
              "  <tbody>\n",
              "    <tr>\n",
              "      <th>1</th>\n",
              "      <td>AMO214LNFCEI4</td>\n",
              "      <td>0528881469</td>\n",
              "      <td>Amazon Customer</td>\n",
              "      <td>[12, 15]</td>\n",
              "      <td>I'm a professional OTR truck driver, and I bou...</td>\n",
              "      <td>1</td>\n",
              "      <td>Very Disappointed</td>\n",
              "      <td>1290643200</td>\n",
              "      <td>2010-11-25</td>\n",
              "      <td>2010</td>\n",
              "    </tr>\n",
              "    <tr>\n",
              "      <th>2</th>\n",
              "      <td>A3N7T0DY83Y4IG</td>\n",
              "      <td>0528881469</td>\n",
              "      <td>C. A. Freeman</td>\n",
              "      <td>[43, 45]</td>\n",
              "      <td>Well, what can I say.  I've had this unit in m...</td>\n",
              "      <td>3</td>\n",
              "      <td>1st impression</td>\n",
              "      <td>1283990400</td>\n",
              "      <td>2010-09-09</td>\n",
              "      <td>2010</td>\n",
              "    </tr>\n",
              "    <tr>\n",
              "      <th>3</th>\n",
              "      <td>A1H8PY3QHMQQA0</td>\n",
              "      <td>0528881469</td>\n",
              "      <td>Dave M. Shaw \"mack dave\"</td>\n",
              "      <td>[9, 10]</td>\n",
              "      <td>Not going to write a long review, even thought...</td>\n",
              "      <td>2</td>\n",
              "      <td>Great grafics, POOR GPS</td>\n",
              "      <td>1290556800</td>\n",
              "      <td>2010-11-24</td>\n",
              "      <td>2010</td>\n",
              "    </tr>\n",
              "    <tr>\n",
              "      <th>4</th>\n",
              "      <td>A24EV6RXELQZ63</td>\n",
              "      <td>0528881469</td>\n",
              "      <td>Wayne Smith</td>\n",
              "      <td>[0, 0]</td>\n",
              "      <td>I've had mine for a year and here's what we go...</td>\n",
              "      <td>1</td>\n",
              "      <td>Major issues, only excuses for support</td>\n",
              "      <td>1317254400</td>\n",
              "      <td>2011-09-29</td>\n",
              "      <td>2011</td>\n",
              "    </tr>\n",
              "    <tr>\n",
              "      <th>20</th>\n",
              "      <td>A1EDI0X3GI1SK7</td>\n",
              "      <td>0972683275</td>\n",
              "      <td>AGW</td>\n",
              "      <td>[0, 1]</td>\n",
              "      <td>Great deal, easy to mount and it appears to be...</td>\n",
              "      <td>5</td>\n",
              "      <td>32 In TV Mount</td>\n",
              "      <td>1323993600</td>\n",
              "      <td>2011-12-16</td>\n",
              "      <td>2011</td>\n",
              "    </tr>\n",
              "  </tbody>\n",
              "</table>\n",
              "</div>\n",
              "    <div class=\"colab-df-buttons\">\n",
              "\n",
              "  <div class=\"colab-df-container\">\n",
              "    <button class=\"colab-df-convert\" onclick=\"convertToInteractive('df-badb2924-19cf-499c-a2cd-0a54a6033e37')\"\n",
              "            title=\"Convert this dataframe to an interactive table.\"\n",
              "            style=\"display:none;\">\n",
              "\n",
              "  <svg xmlns=\"http://www.w3.org/2000/svg\" height=\"24px\" viewBox=\"0 -960 960 960\">\n",
              "    <path d=\"M120-120v-720h720v720H120Zm60-500h600v-160H180v160Zm220 220h160v-160H400v160Zm0 220h160v-160H400v160ZM180-400h160v-160H180v160Zm440 0h160v-160H620v160ZM180-180h160v-160H180v160Zm440 0h160v-160H620v160Z\"/>\n",
              "  </svg>\n",
              "    </button>\n",
              "\n",
              "  <style>\n",
              "    .colab-df-container {\n",
              "      display:flex;\n",
              "      gap: 12px;\n",
              "    }\n",
              "\n",
              "    .colab-df-convert {\n",
              "      background-color: #E8F0FE;\n",
              "      border: none;\n",
              "      border-radius: 50%;\n",
              "      cursor: pointer;\n",
              "      display: none;\n",
              "      fill: #1967D2;\n",
              "      height: 32px;\n",
              "      padding: 0 0 0 0;\n",
              "      width: 32px;\n",
              "    }\n",
              "\n",
              "    .colab-df-convert:hover {\n",
              "      background-color: #E2EBFA;\n",
              "      box-shadow: 0px 1px 2px rgba(60, 64, 67, 0.3), 0px 1px 3px 1px rgba(60, 64, 67, 0.15);\n",
              "      fill: #174EA6;\n",
              "    }\n",
              "\n",
              "    .colab-df-buttons div {\n",
              "      margin-bottom: 4px;\n",
              "    }\n",
              "\n",
              "    [theme=dark] .colab-df-convert {\n",
              "      background-color: #3B4455;\n",
              "      fill: #D2E3FC;\n",
              "    }\n",
              "\n",
              "    [theme=dark] .colab-df-convert:hover {\n",
              "      background-color: #434B5C;\n",
              "      box-shadow: 0px 1px 3px 1px rgba(0, 0, 0, 0.15);\n",
              "      filter: drop-shadow(0px 1px 2px rgba(0, 0, 0, 0.3));\n",
              "      fill: #FFFFFF;\n",
              "    }\n",
              "  </style>\n",
              "\n",
              "    <script>\n",
              "      const buttonEl =\n",
              "        document.querySelector('#df-badb2924-19cf-499c-a2cd-0a54a6033e37 button.colab-df-convert');\n",
              "      buttonEl.style.display =\n",
              "        google.colab.kernel.accessAllowed ? 'block' : 'none';\n",
              "\n",
              "      async function convertToInteractive(key) {\n",
              "        const element = document.querySelector('#df-badb2924-19cf-499c-a2cd-0a54a6033e37');\n",
              "        const dataTable =\n",
              "          await google.colab.kernel.invokeFunction('convertToInteractive',\n",
              "                                                    [key], {});\n",
              "        if (!dataTable) return;\n",
              "\n",
              "        const docLinkHtml = 'Like what you see? Visit the ' +\n",
              "          '<a target=\"_blank\" href=https://colab.research.google.com/notebooks/data_table.ipynb>data table notebook</a>'\n",
              "          + ' to learn more about interactive tables.';\n",
              "        element.innerHTML = '';\n",
              "        dataTable['output_type'] = 'display_data';\n",
              "        await google.colab.output.renderOutput(dataTable, element);\n",
              "        const docLink = document.createElement('div');\n",
              "        docLink.innerHTML = docLinkHtml;\n",
              "        element.appendChild(docLink);\n",
              "      }\n",
              "    </script>\n",
              "  </div>\n",
              "\n",
              "\n",
              "<div id=\"df-6cf2f1fc-6875-46a1-86c1-11b17ef1ce33\">\n",
              "  <button class=\"colab-df-quickchart\" onclick=\"quickchart('df-6cf2f1fc-6875-46a1-86c1-11b17ef1ce33')\"\n",
              "            title=\"Suggest charts\"\n",
              "            style=\"display:none;\">\n",
              "\n",
              "<svg xmlns=\"http://www.w3.org/2000/svg\" height=\"24px\"viewBox=\"0 0 24 24\"\n",
              "     width=\"24px\">\n",
              "    <g>\n",
              "        <path d=\"M19 3H5c-1.1 0-2 .9-2 2v14c0 1.1.9 2 2 2h14c1.1 0 2-.9 2-2V5c0-1.1-.9-2-2-2zM9 17H7v-7h2v7zm4 0h-2V7h2v10zm4 0h-2v-4h2v4z\"/>\n",
              "    </g>\n",
              "</svg>\n",
              "  </button>\n",
              "\n",
              "<style>\n",
              "  .colab-df-quickchart {\n",
              "      --bg-color: #E8F0FE;\n",
              "      --fill-color: #1967D2;\n",
              "      --hover-bg-color: #E2EBFA;\n",
              "      --hover-fill-color: #174EA6;\n",
              "      --disabled-fill-color: #AAA;\n",
              "      --disabled-bg-color: #DDD;\n",
              "  }\n",
              "\n",
              "  [theme=dark] .colab-df-quickchart {\n",
              "      --bg-color: #3B4455;\n",
              "      --fill-color: #D2E3FC;\n",
              "      --hover-bg-color: #434B5C;\n",
              "      --hover-fill-color: #FFFFFF;\n",
              "      --disabled-bg-color: #3B4455;\n",
              "      --disabled-fill-color: #666;\n",
              "  }\n",
              "\n",
              "  .colab-df-quickchart {\n",
              "    background-color: var(--bg-color);\n",
              "    border: none;\n",
              "    border-radius: 50%;\n",
              "    cursor: pointer;\n",
              "    display: none;\n",
              "    fill: var(--fill-color);\n",
              "    height: 32px;\n",
              "    padding: 0;\n",
              "    width: 32px;\n",
              "  }\n",
              "\n",
              "  .colab-df-quickchart:hover {\n",
              "    background-color: var(--hover-bg-color);\n",
              "    box-shadow: 0 1px 2px rgba(60, 64, 67, 0.3), 0 1px 3px 1px rgba(60, 64, 67, 0.15);\n",
              "    fill: var(--button-hover-fill-color);\n",
              "  }\n",
              "\n",
              "  .colab-df-quickchart-complete:disabled,\n",
              "  .colab-df-quickchart-complete:disabled:hover {\n",
              "    background-color: var(--disabled-bg-color);\n",
              "    fill: var(--disabled-fill-color);\n",
              "    box-shadow: none;\n",
              "  }\n",
              "\n",
              "  .colab-df-spinner {\n",
              "    border: 2px solid var(--fill-color);\n",
              "    border-color: transparent;\n",
              "    border-bottom-color: var(--fill-color);\n",
              "    animation:\n",
              "      spin 1s steps(1) infinite;\n",
              "  }\n",
              "\n",
              "  @keyframes spin {\n",
              "    0% {\n",
              "      border-color: transparent;\n",
              "      border-bottom-color: var(--fill-color);\n",
              "      border-left-color: var(--fill-color);\n",
              "    }\n",
              "    20% {\n",
              "      border-color: transparent;\n",
              "      border-left-color: var(--fill-color);\n",
              "      border-top-color: var(--fill-color);\n",
              "    }\n",
              "    30% {\n",
              "      border-color: transparent;\n",
              "      border-left-color: var(--fill-color);\n",
              "      border-top-color: var(--fill-color);\n",
              "      border-right-color: var(--fill-color);\n",
              "    }\n",
              "    40% {\n",
              "      border-color: transparent;\n",
              "      border-right-color: var(--fill-color);\n",
              "      border-top-color: var(--fill-color);\n",
              "    }\n",
              "    60% {\n",
              "      border-color: transparent;\n",
              "      border-right-color: var(--fill-color);\n",
              "    }\n",
              "    80% {\n",
              "      border-color: transparent;\n",
              "      border-right-color: var(--fill-color);\n",
              "      border-bottom-color: var(--fill-color);\n",
              "    }\n",
              "    90% {\n",
              "      border-color: transparent;\n",
              "      border-bottom-color: var(--fill-color);\n",
              "    }\n",
              "  }\n",
              "</style>\n",
              "\n",
              "  <script>\n",
              "    async function quickchart(key) {\n",
              "      const quickchartButtonEl =\n",
              "        document.querySelector('#' + key + ' button');\n",
              "      quickchartButtonEl.disabled = true;  // To prevent multiple clicks.\n",
              "      quickchartButtonEl.classList.add('colab-df-spinner');\n",
              "      try {\n",
              "        const charts = await google.colab.kernel.invokeFunction(\n",
              "            'suggestCharts', [key], {});\n",
              "      } catch (error) {\n",
              "        console.error('Error during call to suggestCharts:', error);\n",
              "      }\n",
              "      quickchartButtonEl.classList.remove('colab-df-spinner');\n",
              "      quickchartButtonEl.classList.add('colab-df-quickchart-complete');\n",
              "    }\n",
              "    (() => {\n",
              "      let quickchartButtonEl =\n",
              "        document.querySelector('#df-6cf2f1fc-6875-46a1-86c1-11b17ef1ce33 button');\n",
              "      quickchartButtonEl.style.display =\n",
              "        google.colab.kernel.accessAllowed ? 'block' : 'none';\n",
              "    })();\n",
              "  </script>\n",
              "</div>\n",
              "\n",
              "    </div>\n",
              "  </div>\n"
            ],
            "application/vnd.google.colaboratory.intrinsic+json": {
              "type": "dataframe",
              "variable_name": "reviews_df"
            }
          },
          "metadata": {},
          "execution_count": 10
        }
      ],
      "source": [
        "reviews_df.head()"
      ]
    },
    {
      "cell_type": "code",
      "execution_count": 11,
      "metadata": {
        "id": "K93vJza7uSPw"
      },
      "outputs": [],
      "source": [
        "reviews_df[\"reviewTime\"] = pd.to_datetime(reviews_df[\"reviewTime\"])\n",
        "reviews_df['year'] = reviews_df[\"reviewTime\"].dt.year"
      ]
    },
    {
      "cell_type": "code",
      "execution_count": 12,
      "metadata": {
        "id": "S6bPYiJ0x_VO"
      },
      "outputs": [],
      "source": [
        "reviews_per_year = reviews_df['year'].value_counts().sort_index()"
      ]
    },
    {
      "cell_type": "code",
      "execution_count": 13,
      "metadata": {
        "id": "QQnATsvxzi9n"
      },
      "outputs": [],
      "source": [
        "reviews_per_year_cum_sum = reviews_per_year.cumsum() / reviews_per_year.sum()"
      ]
    },
    {
      "cell_type": "code",
      "execution_count": 14,
      "metadata": {
        "colab": {
          "base_uri": "https://localhost:8080/",
          "height": 307
        },
        "id": "U_zc28CE2WIc",
        "outputId": "231202c8-03b5-4c2d-f2bd-c43bd80ba8aa"
      },
      "outputs": [
        {
          "output_type": "display_data",
          "data": {
            "text/plain": [
              "<Figure size 800x300 with 2 Axes>"
            ],
            "image/png": "[encoded data removed]"
          },
          "metadata": {}
        }
      ],
      "source": [
        "fig, ax1 = plt.subplots(figsize=(8, 3))\n",
        "\n",
        "# Graphique des fréquences des avis (axe principal)\n",
        "ax1.bar(reviews_per_year.index, reviews_per_year, width=0.4, label='Reviews number', color='skyblue', align='center')\n",
        "ax2 = ax1.twinx()\n",
        "ax2.plot(reviews_per_year_cum_sum.index, reviews_per_year_cum_sum, label='Cum Frequency', color='orange', marker='o')\n",
        "\n",
        "ax1.set_title('reviews frequency per year')\n",
        "ax1.set_xlabel('Year')\n",
        "ax1.set_ylabel(\"Reviews number\", color='blue')\n",
        "ax1.tick_params(axis='y', labelcolor='blue')\n",
        "\n",
        "ax2.set_ylabel('Cum frequency', color='orange')\n",
        "ax2.tick_params(axis='y', labelcolor='orange')\n",
        "\n",
        "\n",
        "fig.tight_layout()\n",
        "plt.legend(loc='upper left')\n",
        "plt.show()"
      ]
    },
    {
      "cell_type": "markdown",
      "metadata": {
        "id": "KLHZEeTjq9NP"
      },
      "source": [
        "# Train test split\n",
        "\n",
        "The data coverage is from 1999. But as we are interested to detect new topics in the as they arrive, it's seems not relevant for us to analyse the data on the full coverage. Customers consumption behavior evolve in time and on such large window the criteria to evaluate the product will probably change a lot. Also the computing resources we have at end make constraints our choise to limit the area of our study. So we will split the dataset in 3: [1999; 2010) removed, [2010- 2013] test set and [2013; 2014]."
      ]
    },
    {
      "cell_type": "code",
      "execution_count": 15,
      "metadata": {
        "id": "KPUZ7H1hq8yX"
      },
      "outputs": [],
      "source": [
        "train_df = reviews_df[(reviews_df[\"year\"] > 2009) & (reviews_df[\"year\"] < 2013)]"
      ]
    },
    {
      "cell_type": "code",
      "execution_count": 16,
      "metadata": {
        "colab": {
          "base_uri": "https://localhost:8080/"
        },
        "id": "B_uu9eRu92pL",
        "outputId": "029e617b-c22d-4573-8595-466f77453555"
      },
      "outputs": [
        {
          "output_type": "execute_result",
          "data": {
            "text/plain": [
              "18"
            ]
          },
          "metadata": {},
          "execution_count": 16
        }
      ],
      "source": [
        "del reviews_df, reviews_per_year, reviews_per_year_cum_sum\n",
        "gc.collect()"
      ]
    },
    {
      "cell_type": "markdown",
      "metadata": {
        "id": "MeQ1_HXNc64J"
      },
      "source": [
        "## preprocessing"
      ]
    },
    {
      "cell_type": "code",
      "execution_count": 17,
      "metadata": {
        "id": "7t4CsDpWWz0U"
      },
      "outputs": [],
      "source": [
        "def nettoyer_texte(texte, stop_words):\n",
        "  \"\"\"low all documents, remove special chars, tokenize and lemmatize them then remove stopwords \"\"\"\n",
        "  lemmatizer = wnl()\n",
        "  if isinstance(texte, str):\n",
        "    texte = texte.lower()\n",
        "    texte = re.sub(r\"[^a-z\\s]\", \"\", texte)\n",
        "    tokens = word_tokenize(texte)\n",
        "    lemma = [lemmatizer.lemmatize(word=token) for token in tokens]\n",
        "    mots_utiles = [mot for mot in lemma if mot not in stop_words]\n",
        "    return \" \".join(mots_utiles)\n",
        "  else:\n",
        "        return \"\""
      ]
    },
    {
      "cell_type": "code",
      "execution_count": 18,
      "metadata": {
        "id": "mTNcPolgYaeS"
      },
      "outputs": [],
      "source": [
        "train_df[\"review_clean\"] = train_df[\"reviewText\"].apply(lambda review: nettoyer_texte(review, cfg.stop_words))"
      ]
    },
    {
      "cell_type": "code",
      "execution_count": null,
      "metadata": {
        "id": "x3266BP_sZtG"
      },
      "outputs": [],
      "source": [
        "count_vectorizer = CountVectorizer(**cfg.vect_params)\n",
        "text_counts = count_vectorizer.fit_transform(train_df[\"review_clean\"])\n",
        "count_df = pd.DataFrame(text_counts.toarray(), columns = count_vectorizer.get_feature_names())"
      ]
    },
    {
      "cell_type": "code",
      "execution_count": null,
      "metadata": {
        "id": "T0gvMj__uVuX"
      },
      "outputs": [],
      "source": [
        "lda = LatentDirichletAllocation(n_components=10,\n",
        "                                n_jobs=-1,\n",
        "                                random_state=cfg.seed,\n",
        "                                verbose=1)"
      ]
    },
    {
      "cell_type": "code",
      "execution_count": null,
      "metadata": {
        "id": "-nZNJzXtYcSf"
      },
      "outputs": [],
      "source": [
        "clf = GridSearchCV(estimator=lda,\n",
        "                   param_grid=cfg.lda_grid_params,\n",
        "                   error_score='raise',\n",
        "                   cv=5,\n",
        "                   n_jobs=-1,\n",
        "                   refit=True)"
      ]
    }
  ],
  "metadata": {
    "colab": {
      "provenance": [],
      "authorship_tag": "ABX9TyNuvVxGtDYLiquAjYyksrhV",
      "include_colab_link": true
    },
    "kernelspec": {
      "display_name": "Python 3",
      "name": "python3"
    },
    "language_info": {
      "name": "python"
    }
  },
  "nbformat": 4,
  "nbformat_minor": 0
}